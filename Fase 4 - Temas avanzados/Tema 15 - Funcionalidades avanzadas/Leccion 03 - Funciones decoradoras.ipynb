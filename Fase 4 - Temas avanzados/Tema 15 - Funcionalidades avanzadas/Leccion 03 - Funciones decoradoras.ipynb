{
 "cells": [
  {
   "cell_type": "markdown",
   "metadata": {},
   "source": [
    "# Ámbitos y funciones decoradoras"
   ]
  },
  {
   "cell_type": "markdown",
   "metadata": {},
   "source": [
    "#### NOTA: Antes de realizar esta lección debes reiniciar Jupyter Notebook para vaciar la memoria."
   ]
  },
  {
   "cell_type": "code",
   "execution_count": 1,
   "metadata": {},
   "outputs": [],
   "source": [
    "def hola ():\n",
    "    def bienvenido():\n",
    "        return \"Hola\"\n",
    "    return bienvenido"
   ]
  },
  {
   "cell_type": "code",
   "execution_count": 2,
   "metadata": {},
   "outputs": [
    {
     "ename": "NameError",
     "evalue": "name 'bienvenido' is not defined",
     "output_type": "error",
     "traceback": [
      "\u001b[1;31m---------------------------------------------------------------------------\u001b[0m",
      "\u001b[1;31mNameError\u001b[0m                                 Traceback (most recent call last)",
      "\u001b[1;32m<ipython-input-2-ea36fecb9306>\u001b[0m in \u001b[0;36m<module>\u001b[1;34m\u001b[0m\n\u001b[1;32m----> 1\u001b[1;33m \u001b[0mbienvenido\u001b[0m\u001b[1;33m(\u001b[0m\u001b[1;33m)\u001b[0m\u001b[1;33m\u001b[0m\u001b[1;33m\u001b[0m\u001b[0m\n\u001b[0m",
      "\u001b[1;31mNameError\u001b[0m: name 'bienvenido' is not defined"
     ]
    }
   ],
   "source": [
    "bienvenido()"
   ]
  },
  {
   "cell_type": "code",
   "execution_count": 3,
   "metadata": {},
   "outputs": [
    {
     "data": {
      "text/plain": [
       "<function __main__.hola.<locals>.bienvenido()>"
      ]
     },
     "execution_count": 3,
     "metadata": {},
     "output_type": "execute_result"
    }
   ],
   "source": [
    "hola()"
   ]
  },
  {
   "cell_type": "code",
   "execution_count": 2,
   "metadata": {},
   "outputs": [
    {
     "name": "stdout",
     "output_type": "stream",
     "text": [
      "{'numero': 50, 'bienvenido': <function hola.<locals>.bienvenido at 0x000001B06B049D38>}\n",
      "{'__name__': '__main__', '__doc__': 'Automatically created module for IPython interactive environment', '__package__': None, '__loader__': None, '__spec__': None, '__builtin__': <module 'builtins' (built-in)>, '__builtins__': <module 'builtins' (built-in)>, '_ih': ['', 'lista = [1,2,3]\\ndef hola ():\\n    \\n    numero = 50\\n    \\n    def bienvenido():\\n        return \"Hola\"\\n    print(locals()) #publicar en ambito local\\n   # print(globals()) #publicar en ambito global\\n    return bienvenido\\nhola()', 'lista = [1,2,3]\\ndef hola ():\\n    \\n    numero = 50\\n    \\n    def bienvenido():\\n        return \"Hola\"\\n    print(locals()) #publicar en ambito local\\n    print(globals()) #publicar en ambito global\\n    return bienvenido\\nhola()'], '_oh': {1: <function hola.<locals>.bienvenido at 0x000001B06B049B88>}, '_dh': ['C:\\\\Users\\\\FuerzaDON\\\\CursoPython\\\\Fase 4 - Temas avanzados\\\\Tema 15 - Funcionalidades avanzadas'], 'In': ['', 'lista = [1,2,3]\\ndef hola ():\\n    \\n    numero = 50\\n    \\n    def bienvenido():\\n        return \"Hola\"\\n    print(locals()) #publicar en ambito local\\n   # print(globals()) #publicar en ambito global\\n    return bienvenido\\nhola()', 'lista = [1,2,3]\\ndef hola ():\\n    \\n    numero = 50\\n    \\n    def bienvenido():\\n        return \"Hola\"\\n    print(locals()) #publicar en ambito local\\n    print(globals()) #publicar en ambito global\\n    return bienvenido\\nhola()'], 'Out': {1: <function hola.<locals>.bienvenido at 0x000001B06B049B88>}, 'get_ipython': <bound method InteractiveShell.get_ipython of <ipykernel.zmqshell.ZMQInteractiveShell object at 0x000001B06AFC2F48>>, 'exit': <IPython.core.autocall.ZMQExitAutocall object at 0x000001B06AFEDF08>, 'quit': <IPython.core.autocall.ZMQExitAutocall object at 0x000001B06AFEDF08>, '_': <function hola.<locals>.bienvenido at 0x000001B06B049B88>, '__': '', '___': '', '_i': 'lista = [1,2,3]\\ndef hola ():\\n    \\n    numero = 50\\n    \\n    def bienvenido():\\n        return \"Hola\"\\n    print(locals()) #publicar en ambito local\\n   # print(globals()) #publicar en ambito global\\n    return bienvenido\\nhola()', '_ii': '', '_iii': '', '_i1': 'lista = [1,2,3]\\ndef hola ():\\n    \\n    numero = 50\\n    \\n    def bienvenido():\\n        return \"Hola\"\\n    print(locals()) #publicar en ambito local\\n   # print(globals()) #publicar en ambito global\\n    return bienvenido\\nhola()', 'lista': [1, 2, 3], 'hola': <function hola at 0x000001B06B049E58>, '_1': <function hola.<locals>.bienvenido at 0x000001B06B049B88>, '_i2': 'lista = [1,2,3]\\ndef hola ():\\n    \\n    numero = 50\\n    \\n    def bienvenido():\\n        return \"Hola\"\\n    print(locals()) #publicar en ambito local\\n    print(globals()) #publicar en ambito global\\n    return bienvenido\\nhola()'}\n"
     ]
    },
    {
     "data": {
      "text/plain": [
       "<function __main__.hola.<locals>.bienvenido()>"
      ]
     },
     "execution_count": 2,
     "metadata": {},
     "output_type": "execute_result"
    }
   ],
   "source": [
    "lista = [1,2,3]\n",
    "def hola ():\n",
    "    \n",
    "    numero = 50\n",
    "    \n",
    "    def bienvenido():\n",
    "        return \"Hola\"\n",
    "    print(locals()) #publicar en ambito local\n",
    "    print(globals()) #publicar en ambito global\n",
    "    return bienvenido\n",
    "hola()"
   ]
  },
  {
   "cell_type": "code",
   "execution_count": 4,
   "metadata": {},
   "outputs": [
    {
     "data": {
      "text/plain": [
       "dict_keys(['__name__', '__doc__', '__package__', '__loader__', '__spec__', '__builtin__', '__builtins__', '_ih', '_oh', '_dh', 'In', 'Out', 'get_ipython', 'exit', 'quit', '_', '__', '___', '_i', '_ii', '_iii', '_i1', 'lista', 'hola', '_1', '_i2', '_i3', '_i4'])"
      ]
     },
     "execution_count": 4,
     "metadata": {},
     "output_type": "execute_result"
    }
   ],
   "source": [
    "globals().keys()"
   ]
  },
  {
   "cell_type": "code",
   "execution_count": 5,
   "metadata": {},
   "outputs": [
    {
     "data": {
      "text/plain": [
       "[1, 2, 3]"
      ]
     },
     "execution_count": 5,
     "metadata": {},
     "output_type": "execute_result"
    }
   ],
   "source": [
    "globals()['lista']"
   ]
  },
  {
   "cell_type": "code",
   "execution_count": 6,
   "metadata": {},
   "outputs": [
    {
     "data": {
      "text/plain": [
       "[1, 2, 3]"
      ]
     },
     "execution_count": 6,
     "metadata": {},
     "output_type": "execute_result"
    }
   ],
   "source": [
    "lista"
   ]
  },
  {
   "cell_type": "code",
   "execution_count": 2,
   "metadata": {},
   "outputs": [
    {
     "data": {
      "text/plain": [
       "<function __main__.hola.<locals>.bienvenido()>"
      ]
     },
     "execution_count": 2,
     "metadata": {},
     "output_type": "execute_result"
    }
   ],
   "source": [
    "lista = [1,2,3]\n",
    "def hola ():\n",
    "    \n",
    "   \n",
    "    def bienvenido():\n",
    "        return \"Hola\"\n",
    "    return bienvenido\n",
    "hola()"
   ]
  },
  {
   "cell_type": "code",
   "execution_count": 1,
   "metadata": {},
   "outputs": [
    {
     "data": {
      "text/plain": [
       "'Hola'"
      ]
     },
     "execution_count": 1,
     "metadata": {},
     "output_type": "execute_result"
    }
   ],
   "source": [
    "lista = [1,2,3]\n",
    "def hola ():\n",
    "    \n",
    "   \n",
    "    def bienvenido():\n",
    "        return \"Hola\"\n",
    "    return bienvenido\n",
    "#El primer parentesis ejecuta \"hola\" y el segundo ejecuta \"bienbenido\"\n",
    "hola()()"
   ]
  },
  {
   "cell_type": "code",
   "execution_count": 5,
   "metadata": {},
   "outputs": [
    {
     "data": {
      "text/plain": [
       "'Hola'"
      ]
     },
     "execution_count": 5,
     "metadata": {},
     "output_type": "execute_result"
    }
   ],
   "source": [
    "bienvenido = hola()\n",
    "bienvenido()"
   ]
  },
  {
   "cell_type": "code",
   "execution_count": 6,
   "metadata": {},
   "outputs": [],
   "source": [
    "#si borramos la copia de la memoria, seguiria funcionando la original\n",
    "del(hola)"
   ]
  },
  {
   "cell_type": "code",
   "execution_count": 8,
   "metadata": {},
   "outputs": [
    {
     "data": {
      "text/plain": [
       "'Hola'"
      ]
     },
     "execution_count": 8,
     "metadata": {},
     "output_type": "execute_result"
    }
   ],
   "source": [
    "bienvenido()"
   ]
  },
  {
   "cell_type": "code",
   "execution_count": 9,
   "metadata": {},
   "outputs": [
    {
     "name": "stdout",
     "output_type": "stream",
     "text": [
      "Hola!\n"
     ]
    }
   ],
   "source": [
    "def hola():\n",
    "    return \"Hola!\"\n",
    "\n",
    "def test(function):\n",
    "    print(function())\n",
    "test(hola)"
   ]
  },
  {
   "cell_type": "code",
   "execution_count": null,
   "metadata": {},
   "outputs": [],
   "source": []
  }
 ],
 "metadata": {
  "anaconda-cloud": {},
  "kernelspec": {
   "display_name": "Python 3",
   "language": "python",
   "name": "python3"
  },
  "language_info": {
   "codemirror_mode": {
    "name": "ipython",
    "version": 3
   },
   "file_extension": ".py",
   "mimetype": "text/x-python",
   "name": "python",
   "nbconvert_exporter": "python",
   "pygments_lexer": "ipython3",
   "version": "3.7.6"
  }
 },
 "nbformat": 4,
 "nbformat_minor": 1
}
