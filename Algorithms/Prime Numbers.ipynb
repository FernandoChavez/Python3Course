{
 "cells": [
  {
   "cell_type": "code",
   "execution_count": 2,
   "metadata": {},
   "outputs": [
    {
     "name": "stdout",
     "output_type": "stream",
     "text": [
      "Ingreso un numero: 2\n",
      "Es primo\n"
     ]
    }
   ],
   "source": [
    "#Numeros primos\n",
    "import math\n",
    "numero = int(input(\"Ingreso un numero: \"))\n",
    "\n",
    "def primo(numero):\n",
    "    if numero > 1:\n",
    "        for n in range(2, numero):\n",
    "            if (numero%n) == 0:\n",
    "                return False\n",
    "        return True\n",
    "    else:\n",
    "        return False\n",
    "\n",
    "if primo(numero):\n",
    "    print(\"Es primo\")\n",
    "else:\n",
    "    print(\"No es primo\")\n",
    "    "
   ]
  },
  {
   "cell_type": "code",
   "execution_count": 6,
   "metadata": {},
   "outputs": [
    {
     "name": "stdout",
     "output_type": "stream",
     "text": [
      "[2, 5, 3, 3, 11, 17, 13, 2]\n"
     ]
    }
   ],
   "source": [
    "#Ahora una lista de numeros\n",
    "\n",
    "numeros = [12,2,5,3,90,-1,0,8,3, 11, 17, 13, 1, 2]\n",
    "\n",
    "def primo(numeros):\n",
    "    primos=[]\n",
    "    for n in numeros:\n",
    "        flag=True\n",
    "        if n > 1:\n",
    "            for m in range(2, n):\n",
    "                if (n%m) == 0:\n",
    "                    flag = False\n",
    "                    break\n",
    "        else:\n",
    "            flag = False\n",
    "        \n",
    "        if(flag):\n",
    "            primos.append(n)\n",
    "    return primos\n",
    "            \n",
    "print(primo(numeros))\n"
   ]
  },
  {
   "cell_type": "code",
   "execution_count": 45,
   "metadata": {},
   "outputs": [
    {
     "name": "stdout",
     "output_type": "stream",
     "text": [
      "[1]\n"
     ]
    }
   ],
   "source": []
  },
  {
   "cell_type": "code",
   "execution_count": null,
   "metadata": {},
   "outputs": [],
   "source": []
  }
 ],
 "metadata": {
  "kernelspec": {
   "display_name": "Python 3",
   "language": "python",
   "name": "python3"
  },
  "language_info": {
   "codemirror_mode": {
    "name": "ipython",
    "version": 3
   },
   "file_extension": ".py",
   "mimetype": "text/x-python",
   "name": "python",
   "nbconvert_exporter": "python",
   "pygments_lexer": "ipython3",
   "version": "3.7.6"
  }
 },
 "nbformat": 4,
 "nbformat_minor": 4
}
