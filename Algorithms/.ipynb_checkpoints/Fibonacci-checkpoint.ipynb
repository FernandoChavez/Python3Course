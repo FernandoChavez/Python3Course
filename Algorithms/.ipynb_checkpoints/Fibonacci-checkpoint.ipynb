{
 "cells": [
  {
   "cell_type": "code",
   "execution_count": 11,
   "metadata": {},
   "outputs": [
    {
     "name": "stdout",
     "output_type": "stream",
     "text": [
      "Contador limite: : 1\n",
      "Lo siento: El contador debe ser mayor a 2\n"
     ]
    }
   ],
   "source": [
    "contador = int(input(\"Contador limite: : \"))\n",
    "if(contador>2):\n",
    "    lista=[0,1]\n",
    "    for n in range(2,contador):\n",
    "        lista.append(lista[n-1] + lista[n-2])\n",
    "    print(lista)\n",
    "else:\n",
    "    print(\"Lo siento: El contador debe ser mayor a 2\")\n",
    "    "
   ]
  },
  {
   "cell_type": "code",
   "execution_count": null,
   "metadata": {},
   "outputs": [],
   "source": []
  }
 ],
 "metadata": {
  "kernelspec": {
   "display_name": "Python 3",
   "language": "python",
   "name": "python3"
  },
  "language_info": {
   "codemirror_mode": {
    "name": "ipython",
    "version": 3
   },
   "file_extension": ".py",
   "mimetype": "text/x-python",
   "name": "python",
   "nbconvert_exporter": "python",
   "pygments_lexer": "ipython3",
   "version": "3.7.6"
  }
 },
 "nbformat": 4,
 "nbformat_minor": 4
}
