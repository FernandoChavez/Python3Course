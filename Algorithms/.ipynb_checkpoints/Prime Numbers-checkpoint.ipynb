{
 "cells": [
  {
   "cell_type": "code",
   "execution_count": 53,
   "metadata": {},
   "outputs": [
    {
     "name": "stdout",
     "output_type": "stream",
     "text": [
      "Ingreso un numero: 7\n",
      "Es primo\n"
     ]
    }
   ],
   "source": [
    "#Numeros primos\n",
    "import math\n",
    "numero = int(input(\"Ingreso un numero: \"))\n",
    "\n",
    "def primo(numero):\n",
    "    if numero > 1:\n",
    "        for n in range(2, numero):\n",
    "            if (numero%n) == 0:\n",
    "                return False\n",
    "        return True\n",
    "    else:\n",
    "        return False\n",
    "\n",
    "if primo(numero):\n",
    "    print(\"Es primo\")\n",
    "else:\n",
    "    print(\"No es primo\")\n",
    "    "
   ]
  },
  {
   "cell_type": "code",
   "execution_count": 56,
   "metadata": {},
   "outputs": [
    {
     "name": "stdout",
     "output_type": "stream",
     "text": [
      "12 2\n",
      "False\n",
      "5 2\n",
      "5 3\n",
      "False\n",
      "False\n",
      "90 2\n",
      "False\n",
      "False\n",
      "False\n",
      "8 2\n",
      "False\n",
      "False\n",
      "[]\n"
     ]
    }
   ],
   "source": [
    "#Ahora una lista de numeros\n",
    "\n",
    "numeros = [12,5,3,90,-1,0,8,3]\n",
    "\n",
    "def primo(numeros):\n",
    "    primos=[]\n",
    "    flag=True\n",
    "    for n in numeros:\n",
    "        if n > 1:\n",
    "            for m in range(2, n-1):\n",
    "                print(n, m)\n",
    "                if (n%m) == 0:\n",
    "                    flag = False\n",
    "                    break\n",
    "        else:\n",
    "            flag = False\n",
    "        print(flag)\n",
    "        \n",
    "        if(flag):\n",
    "            primos.append(n)\n",
    "    return primos\n",
    "            \n",
    "print(primo(numeros))\n"
   ]
  },
  {
   "cell_type": "code",
   "execution_count": 45,
   "metadata": {},
   "outputs": [
    {
     "name": "stdout",
     "output_type": "stream",
     "text": [
      "[1]\n"
     ]
    }
   ],
   "source": []
  },
  {
   "cell_type": "code",
   "execution_count": null,
   "metadata": {},
   "outputs": [],
   "source": []
  }
 ],
 "metadata": {
  "kernelspec": {
   "display_name": "Python 3",
   "language": "python",
   "name": "python3"
  },
  "language_info": {
   "codemirror_mode": {
    "name": "ipython",
    "version": 3
   },
   "file_extension": ".py",
   "mimetype": "text/x-python",
   "name": "python",
   "nbconvert_exporter": "python",
   "pygments_lexer": "ipython3",
   "version": "3.7.6"
  }
 },
 "nbformat": 4,
 "nbformat_minor": 4
}
