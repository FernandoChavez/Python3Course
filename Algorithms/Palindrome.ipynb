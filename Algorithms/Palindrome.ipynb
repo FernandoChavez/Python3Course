{
 "cells": [
  {
   "cell_type": "code",
   "execution_count": 1,
   "metadata": {},
   "outputs": [
    {
     "name": "stdout",
     "output_type": "stream",
     "text": [
      "Escriba cualquier cosa: asdas\n",
      "No es palindromo\n"
     ]
    }
   ],
   "source": [
    "#Exercice where we can to compare if a string is palindrome or not\n",
    "\n",
    "\n",
    "#Fast way\n",
    "palabra = input(\"Escriba cualquier cosa: \")\n",
    "palabra = palabra.replace(\" \",\"\")\n",
    "palabra = palabra.lower()\n",
    "inversa = palabra[::-1]\n",
    "\n",
    "if palabra==inversa:\n",
    "    print(\"Es palindromo\")\n",
    "else:\n",
    "    print(\"No es palindromo\")"
   ]
  },
  {
   "cell_type": "code",
   "execution_count": 25,
   "metadata": {},
   "outputs": [
    {
     "name": "stdout",
     "output_type": "stream",
     "text": [
      "Escriba cualquier cosa:         h     o     h   \n",
      "Es impar\n",
      "Es palindromo\n"
     ]
    }
   ],
   "source": [
    "#Extends way\n",
    "palabra = input (\"Escriba cualquier cosa: \")\n",
    "\n",
    "def reversearCadena(palabra):\n",
    "    sinEspacios = palabra.replace(\" \",\"\")\n",
    "    sinEspacios = sinEspacios.lower()\n",
    "    rango = len(sinEspacios)\n",
    "    if (rango%2) == 0:\n",
    "        rangoReducido = rango / 2\n",
    "    else:\n",
    "        rangoReducido =(rango -1)/ 2\n",
    "   \n",
    "    for n in range(int(rangoReducido)):\n",
    "        if sinEspacios[n] != sinEspacios[rango-n-1]:\n",
    "            return False\n",
    "        \n",
    "    return True \n",
    "\n",
    "palindromo = reversearCadena(palabra)\n",
    "if(palindromo):\n",
    "    print(\"Es palindromo\")\n",
    "else:\n",
    "    print(\"No es palindromo\")"
   ]
  },
  {
   "cell_type": "code",
   "execution_count": null,
   "metadata": {},
   "outputs": [],
   "source": []
  }
 ],
 "metadata": {
  "kernelspec": {
   "display_name": "Python 3",
   "language": "python",
   "name": "python3"
  },
  "language_info": {
   "codemirror_mode": {
    "name": "ipython",
    "version": 3
   },
   "file_extension": ".py",
   "mimetype": "text/x-python",
   "name": "python",
   "nbconvert_exporter": "python",
   "pygments_lexer": "ipython3",
   "version": "3.7.6"
  }
 },
 "nbformat": 4,
 "nbformat_minor": 4
}
