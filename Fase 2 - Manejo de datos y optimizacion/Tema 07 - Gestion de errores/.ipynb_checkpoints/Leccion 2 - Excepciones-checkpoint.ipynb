{
 "cells": [
  {
   "cell_type": "code",
   "execution_count": 1,
   "metadata": {},
   "outputs": [
    {
     "name": "stdout",
     "output_type": "stream",
     "text": [
      "Introduce un numeroaaa\n"
     ]
    },
    {
     "ename": "ValueError",
     "evalue": "could not convert string to float: 'aaa'",
     "output_type": "error",
     "traceback": [
      "\u001b[1;31m---------------------------------------------------------------------------\u001b[0m",
      "\u001b[1;31mValueError\u001b[0m                                Traceback (most recent call last)",
      "\u001b[1;32m<ipython-input-1-7b7853092406>\u001b[0m in \u001b[0;36m<module>\u001b[1;34m\u001b[0m\n\u001b[1;32m----> 1\u001b[1;33m \u001b[0mn\u001b[0m \u001b[1;33m=\u001b[0m \u001b[0mfloat\u001b[0m\u001b[1;33m(\u001b[0m\u001b[0minput\u001b[0m\u001b[1;33m(\u001b[0m\u001b[1;34m\"Introduce un numero\"\u001b[0m\u001b[1;33m)\u001b[0m\u001b[1;33m)\u001b[0m\u001b[1;33m\u001b[0m\u001b[1;33m\u001b[0m\u001b[0m\n\u001b[0m\u001b[0;32m      2\u001b[0m \u001b[0mm\u001b[0m\u001b[1;33m=\u001b[0m\u001b[1;36m4\u001b[0m\u001b[1;33m\u001b[0m\u001b[1;33m\u001b[0m\u001b[0m\n\u001b[0;32m      3\u001b[0m \u001b[0mprint\u001b[0m\u001b[1;33m(\u001b[0m\u001b[1;34m\"{}/{}={}\"\u001b[0m\u001b[1;33m.\u001b[0m\u001b[0mformat\u001b[0m\u001b[1;33m(\u001b[0m\u001b[0mn\u001b[0m\u001b[1;33m,\u001b[0m\u001b[0mm\u001b[0m\u001b[1;33m,\u001b[0m\u001b[0mn\u001b[0m\u001b[1;33m/\u001b[0m\u001b[0mm\u001b[0m\u001b[1;33m)\u001b[0m\u001b[1;33m)\u001b[0m\u001b[1;33m\u001b[0m\u001b[1;33m\u001b[0m\u001b[0m\n",
      "\u001b[1;31mValueError\u001b[0m: could not convert string to float: 'aaa'"
     ]
    }
   ],
   "source": [
    "n = float(input(\"Introduce un numero: \"))\n",
    "m=4\n",
    "print(\"{}/{}={}\".format(n,m,n/m))"
   ]
  },
  {
   "cell_type": "code",
   "execution_count": 4,
   "metadata": {},
   "outputs": [
    {
     "name": "stdout",
     "output_type": "stream",
     "text": [
      "Introduce un numero: 12\n",
      "12.0/4=3.0\n"
     ]
    }
   ],
   "source": [
    "try:\n",
    "    n = float(input(\"Introduce un numero: \"))\n",
    "    m=4\n",
    "    print(\"{}/{}={}\".format(n,m,n/m))\n",
    "except:\n",
    "    print(\"Ha ocurrido un error, introduce bien el numero\")"
   ]
  },
  {
   "cell_type": "code",
   "execution_count": 4,
   "metadata": {},
   "outputs": [
    {
     "name": "stdout",
     "output_type": "stream",
     "text": [
      "Introduce un numero: sdfs\n",
      "Ha ocurrido un error, introduce bien el número\n",
      "Introduce un numero: xcvxc\n",
      "Ha ocurrido un error, introduce bien el número\n",
      "Introduce un numero: xcvxc\n",
      "Ha ocurrido un error, introduce bien el número\n",
      "Introduce un numero: cvbvbvcx\n",
      "Ha ocurrido un error, introduce bien el número\n",
      "Introduce un numero: vbxcv\n",
      "Ha ocurrido un error, introduce bien el número\n",
      "Introduce un numero: cxvbxc\n",
      "Ha ocurrido un error, introduce bien el número\n",
      "Introduce un numero: 34534\n",
      "34534.0/4=8633.5\n"
     ]
    }
   ],
   "source": [
    "while(True):\n",
    "    try:\n",
    "        n = float(input(\"Introduce un numero: \"))\n",
    "        m=4\n",
    "        print(\"{}/{}={}\".format(n,m,n/m))\n",
    "        break #importante romper la iteraccion si todo salio bien\n",
    "    except:\n",
    "        print(\"Ha ocurrido un error, introduce bien el número\")"
   ]
  },
  {
   "cell_type": "code",
   "execution_count": 5,
   "metadata": {},
   "outputs": [
    {
     "name": "stdout",
     "output_type": "stream",
     "text": [
      "Introduce un numero: dfsd\n",
      "Ha ocurrido un error, introduce bien el número\n",
      "Introduce un numero: 12312\n",
      "12312.0/4=3078.0\n",
      "Todo ha funcionado correctamente\n"
     ]
    }
   ],
   "source": [
    "while(True):\n",
    "    try:\n",
    "        n = float(input(\"Introduce un numero: \"))\n",
    "        m=4\n",
    "        print(\"{}/{}={}\".format(n,m,n/m))\n",
    "    except:\n",
    "        print(\"Ha ocurrido un error, introduce bien el número\")\n",
    "    else:\n",
    "        print(\"Todo ha funcionado correctamente\")\n",
    "        break #importante romper la iteraccion si todo salio bien\n",
    "    "
   ]
  },
  {
   "cell_type": "code",
   "execution_count": 6,
   "metadata": {},
   "outputs": [
    {
     "name": "stdout",
     "output_type": "stream",
     "text": [
      "Introduce un numero: sdfsd\n",
      "Ha ocurrido un error, introduce bien el número\n",
      "Fin de la iteracion\n",
      "Introduce un numero: 34534\n",
      "34534.0/4=8633.5\n",
      "Todo ha funcionado correctamente\n",
      "Fin de la iteracion\n"
     ]
    }
   ],
   "source": [
    "while(True):\n",
    "    try:\n",
    "        n = float(input(\"Introduce un numero: \"))\n",
    "        m=4\n",
    "        print(\"{}/{}={}\".format(n,m,n/m))\n",
    "    except:\n",
    "        print(\"Ha ocurrido un error, introduce bien el número\")\n",
    "    else:\n",
    "        print(\"Todo ha funcionado correctamente\")\n",
    "        break #importante romper la iteraccion si todo salio bien\n",
    "    finally:\n",
    "        print(\"Fin de la iteracion\")"
   ]
  },
  {
   "cell_type": "code",
   "execution_count": null,
   "metadata": {},
   "outputs": [],
   "source": []
  }
 ],
 "metadata": {
  "kernelspec": {
   "display_name": "Python 3",
   "language": "python",
   "name": "python3"
  }
 },
 "nbformat": 4,
 "nbformat_minor": 1
}
