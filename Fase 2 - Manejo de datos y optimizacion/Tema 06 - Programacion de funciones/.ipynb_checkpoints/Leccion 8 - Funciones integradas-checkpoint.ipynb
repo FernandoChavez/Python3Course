{
 "cells": [
  {
   "cell_type": "code",
   "execution_count": 1,
   "metadata": {},
   "outputs": [
    {
     "data": {
      "text/plain": [
       "10"
      ]
     },
     "execution_count": 1,
     "metadata": {},
     "output_type": "execute_result"
    }
   ],
   "source": [
    "n = int(\"10\")\n",
    "n"
   ]
  },
  {
   "cell_type": "code",
   "execution_count": 3,
   "metadata": {},
   "outputs": [
    {
     "data": {
      "text/plain": [
       "10.6"
      ]
     },
     "execution_count": 3,
     "metadata": {},
     "output_type": "execute_result"
    }
   ],
   "source": [
    "f = float(\"10.6\")\n",
    "f"
   ]
  },
  {
   "cell_type": "code",
   "execution_count": 4,
   "metadata": {},
   "outputs": [],
   "source": [
    "c = \"un texto y un numero \" + str(10)"
   ]
  },
  {
   "cell_type": "code",
   "execution_count": 5,
   "metadata": {},
   "outputs": [
    {
     "data": {
      "text/plain": [
       "'un texto y un numero 10'"
      ]
     },
     "execution_count": 5,
     "metadata": {},
     "output_type": "execute_result"
    }
   ],
   "source": [
    "c"
   ]
  },
  {
   "cell_type": "code",
   "execution_count": 6,
   "metadata": {},
   "outputs": [],
   "source": [
    "c = \"un texto y un numero \" + str(10) + \" \" + str(3.14)"
   ]
  },
  {
   "cell_type": "code",
   "execution_count": 7,
   "metadata": {},
   "outputs": [
    {
     "data": {
      "text/plain": [
       "'un texto y un numero 10 3.14'"
      ]
     },
     "execution_count": 7,
     "metadata": {},
     "output_type": "execute_result"
    }
   ],
   "source": [
    "c"
   ]
  },
  {
   "cell_type": "code",
   "execution_count": 8,
   "metadata": {},
   "outputs": [
    {
     "data": {
      "text/plain": [
       "'0b1010'"
      ]
     },
     "execution_count": 8,
     "metadata": {},
     "output_type": "execute_result"
    }
   ],
   "source": [
    "bin(10)"
   ]
  },
  {
   "cell_type": "code",
   "execution_count": 9,
   "metadata": {},
   "outputs": [
    {
     "data": {
      "text/plain": [
       "'0xa'"
      ]
     },
     "execution_count": 9,
     "metadata": {},
     "output_type": "execute_result"
    }
   ],
   "source": [
    "hex(10)"
   ]
  },
  {
   "cell_type": "code",
   "execution_count": 10,
   "metadata": {},
   "outputs": [
    {
     "data": {
      "text/plain": [
       "10"
      ]
     },
     "execution_count": 10,
     "metadata": {},
     "output_type": "execute_result"
    }
   ],
   "source": [
    "# Indica que está en base 2\n",
    "int('0b1010', 2)"
   ]
  },
  {
   "cell_type": "code",
   "execution_count": 11,
   "metadata": {},
   "outputs": [
    {
     "data": {
      "text/plain": [
       "10"
      ]
     },
     "execution_count": 11,
     "metadata": {},
     "output_type": "execute_result"
    }
   ],
   "source": [
    "# Indica que está en base 16\n",
    "int('0xa', 16)"
   ]
  },
  {
   "cell_type": "code",
   "execution_count": 12,
   "metadata": {},
   "outputs": [
    {
     "data": {
      "text/plain": [
       "10"
      ]
     },
     "execution_count": 12,
     "metadata": {},
     "output_type": "execute_result"
    }
   ],
   "source": [
    "abs(-10)"
   ]
  },
  {
   "cell_type": "code",
   "execution_count": 13,
   "metadata": {},
   "outputs": [
    {
     "data": {
      "text/plain": [
       "10"
      ]
     },
     "execution_count": 13,
     "metadata": {},
     "output_type": "execute_result"
    }
   ],
   "source": [
    "abs(10)"
   ]
  },
  {
   "cell_type": "code",
   "execution_count": 18,
   "metadata": {},
   "outputs": [
    {
     "data": {
      "text/plain": [
       "6"
      ]
     },
     "execution_count": 18,
     "metadata": {},
     "output_type": "execute_result"
    }
   ],
   "source": [
    "round(5.5)"
   ]
  },
  {
   "cell_type": "code",
   "execution_count": 16,
   "metadata": {},
   "outputs": [
    {
     "data": {
      "text/plain": [
       "5"
      ]
     },
     "execution_count": 16,
     "metadata": {},
     "output_type": "execute_result"
    }
   ],
   "source": [
    "round(5.4)"
   ]
  },
  {
   "cell_type": "code",
   "execution_count": 19,
   "metadata": {},
   "outputs": [
    {
     "data": {
      "text/plain": [
       "7"
      ]
     },
     "execution_count": 19,
     "metadata": {},
     "output_type": "execute_result"
    }
   ],
   "source": [
    "eval('2+5')"
   ]
  },
  {
   "cell_type": "code",
   "execution_count": 20,
   "metadata": {},
   "outputs": [
    {
     "data": {
      "text/plain": [
       "95"
      ]
     },
     "execution_count": 20,
     "metadata": {},
     "output_type": "execute_result"
    }
   ],
   "source": [
    "n=10\n",
    "eval('n*10-5')"
   ]
  },
  {
   "cell_type": "code",
   "execution_count": 21,
   "metadata": {},
   "outputs": [
    {
     "data": {
      "text/plain": [
       "10"
      ]
     },
     "execution_count": 21,
     "metadata": {},
     "output_type": "execute_result"
    }
   ],
   "source": [
    "len(\"Una cadena\")"
   ]
  },
  {
   "cell_type": "code",
   "execution_count": 23,
   "metadata": {},
   "outputs": [
    {
     "data": {
      "text/plain": [
       "0"
      ]
     },
     "execution_count": 23,
     "metadata": {},
     "output_type": "execute_result"
    }
   ],
   "source": [
    "len([])"
   ]
  },
  {
   "cell_type": "code",
   "execution_count": null,
   "metadata": {},
   "outputs": [
    {
     "name": "stdout",
     "output_type": "stream",
     "text": [
      "\n",
      "Welcome to Python 3.7's help utility!\n",
      "\n",
      "If this is your first time using Python, you should definitely check out\n",
      "the tutorial on the Internet at https://docs.python.org/3.7/tutorial/.\n",
      "\n",
      "Enter the name of any module, keyword, or topic to get help on writing\n",
      "Python programs and using Python modules.  To quit this help utility and\n",
      "return to the interpreter, just type \"quit\".\n",
      "\n",
      "To get a list of available modules, keywords, symbols, or topics, type\n",
      "\"modules\", \"keywords\", \"symbols\", or \"topics\".  Each module also comes\n",
      "with a one-line summary of what it does; to list the modules whose name\n",
      "or summary contain a given string such as \"spam\", type \"modules spam\".\n",
      "\n",
      "help> ATTRIBUTES\n",
      "Attribute references\n",
      "********************\n",
      "\n",
      "An attribute reference is a primary followed by a period and a name:\n",
      "\n",
      "   attributeref ::= primary \".\" identifier\n",
      "\n",
      "The primary must evaluate to an object of a type that supports\n",
      "attribute references, which most objects do.  This object is then\n",
      "asked to produce the attribute whose name is the identifier.  This\n",
      "production can be customized by overriding the \"__getattr__()\" method.\n",
      "If this attribute is not available, the exception \"AttributeError\" is\n",
      "raised.  Otherwise, the type and value of the object produced is\n",
      "determined by the object.  Multiple evaluations of the same attribute\n",
      "reference may yield different objects.\n",
      "\n",
      "Related help topics: getattr, hasattr, setattr, ATTRIBUTEMETHODS\n",
      "\n",
      "help> DEBUGGING\n",
      "\"pdb\" — The Python Debugger\n",
      "***************************\n",
      "\n",
      "**Source code:** Lib/pdb.py\n",
      "\n",
      "======================================================================\n",
      "\n",
      "The module \"pdb\" defines an interactive source code debugger for\n",
      "Python programs.  It supports setting (conditional) breakpoints and\n",
      "single stepping at the source line level, inspection of stack frames,\n",
      "source code listing, and evaluation of arbitrary Python code in the\n",
      "context of any stack frame.  It also supports post-mortem debugging\n",
      "and can be called under program control.\n",
      "\n",
      "The debugger is extensible – it is actually defined as the class\n",
      "\"Pdb\". This is currently undocumented but easily understood by reading\n",
      "the source.  The extension interface uses the modules \"bdb\" and \"cmd\".\n",
      "\n",
      "The debugger’s prompt is \"(Pdb)\". Typical usage to run a program under\n",
      "control of the debugger is:\n",
      "\n",
      "   >>> import pdb\n",
      "   >>> import mymodule\n",
      "   >>> pdb.run('mymodule.test()')\n",
      "   > <string>(0)?()\n",
      "   (Pdb) continue\n",
      "   > <string>(1)?()\n",
      "   (Pdb) continue\n",
      "   NameError: 'spam'\n",
      "   > <string>(1)?()\n",
      "   (Pdb)\n",
      "\n",
      "Changed in version 3.3: Tab-completion via the \"readline\" module is\n",
      "available for commands and command arguments, e.g. the current global\n",
      "and local names are offered as arguments of the \"p\" command.\n",
      "\n",
      "\"pdb.py\" can also be invoked as a script to debug other scripts.  For\n",
      "example:\n",
      "\n",
      "   python3 -m pdb myscript.py\n",
      "\n",
      "When invoked as a script, pdb will automatically enter post-mortem\n",
      "debugging if the program being debugged exits abnormally.  After post-\n",
      "mortem debugging (or after normal exit of the program), pdb will\n",
      "restart the program.  Automatic restarting preserves pdb’s state (such\n",
      "as breakpoints) and in most cases is more useful than quitting the\n",
      "debugger upon program’s exit.\n",
      "\n",
      "New in version 3.2: \"pdb.py\" now accepts a \"-c\" option that executes\n",
      "commands as if given in a \".pdbrc\" file, see Debugger Commands.\n",
      "\n",
      "New in version 3.7: \"pdb.py\" now accepts a \"-m\" option that execute\n",
      "modules similar to the way \"python3 -m\" does. As with a script, the\n",
      "debugger will pause execution just before the first line of the\n",
      "module.\n",
      "\n",
      "The typical usage to break into the debugger from a running program is\n",
      "to insert\n",
      "\n",
      "   import pdb; pdb.set_trace()\n",
      "\n",
      "at the location you want to break into the debugger.  You can then\n",
      "step through the code following this statement, and continue running\n",
      "without the debugger using the \"continue\" command.\n",
      "\n",
      "New in version 3.7: The built-in \"breakpoint()\", when called with\n",
      "defaults, can be used instead of \"import pdb; pdb.set_trace()\".\n",
      "\n",
      "The typical usage to inspect a crashed program is:\n",
      "\n",
      "   >>> import pdb\n",
      "   >>> import mymodule\n",
      "   >>> mymodule.test()\n",
      "   Traceback (most recent call last):\n",
      "     File \"<stdin>\", line 1, in <module>\n",
      "     File \"./mymodule.py\", line 4, in test\n",
      "       test2()\n",
      "     File \"./mymodule.py\", line 3, in test2\n",
      "       print(spam)\n",
      "   NameError: spam\n",
      "   >>> pdb.pm()\n",
      "   > ./mymodule.py(3)test2()\n",
      "   -> print(spam)\n",
      "   (Pdb)\n",
      "\n",
      "The module defines the following functions; each enters the debugger\n",
      "in a slightly different way:\n",
      "\n",
      "pdb.run(statement, globals=None, locals=None)\n",
      "\n",
      "   Execute the *statement* (given as a string or a code object) under\n",
      "   debugger control.  The debugger prompt appears before any code is\n",
      "   executed; you can set breakpoints and type \"continue\", or you can\n",
      "   step through the statement using \"step\" or \"next\" (all these\n",
      "   commands are explained below).  The optional *globals* and *locals*\n",
      "   arguments specify the environment in which the code is executed; by\n",
      "   default the dictionary of the module \"__main__\" is used.  (See the\n",
      "   explanation of the built-in \"exec()\" or \"eval()\" functions.)\n",
      "\n",
      "pdb.runeval(expression, globals=None, locals=None)\n",
      "\n",
      "   Evaluate the *expression* (given as a string or a code object)\n",
      "   under debugger control.  When \"runeval()\" returns, it returns the\n",
      "   value of the expression.  Otherwise this function is similar to\n",
      "   \"run()\".\n",
      "\n",
      "pdb.runcall(function, *args, **kwds)\n",
      "\n",
      "   Call the *function* (a function or method object, not a string)\n",
      "   with the given arguments.  When \"runcall()\" returns, it returns\n",
      "   whatever the function call returned.  The debugger prompt appears\n",
      "   as soon as the function is entered.\n",
      "\n",
      "pdb.set_trace(*, header=None)\n",
      "\n",
      "   Enter the debugger at the calling stack frame.  This is useful to\n",
      "   hard-code a breakpoint at a given point in a program, even if the\n",
      "   code is not otherwise being debugged (e.g. when an assertion\n",
      "   fails).  If given, *header* is printed to the console just before\n",
      "   debugging begins.\n",
      "\n",
      "   Changed in version 3.7: The keyword-only argument *header*.\n",
      "\n",
      "pdb.post_mortem(traceback=None)\n",
      "\n",
      "   Enter post-mortem debugging of the given *traceback* object.  If no\n",
      "   *traceback* is given, it uses the one of the exception that is\n",
      "   currently being handled (an exception must be being handled if the\n",
      "   default is to be used).\n",
      "\n",
      "pdb.pm()\n",
      "\n",
      "   Enter post-mortem debugging of the traceback found in\n",
      "   \"sys.last_traceback\".\n",
      "\n",
      "The \"run*\" functions and \"set_trace()\" are aliases for instantiating\n",
      "the \"Pdb\" class and calling the method of the same name.  If you want\n",
      "to access further features, you have to do this yourself:\n",
      "\n",
      "class pdb.Pdb(completekey='tab', stdin=None, stdout=None, skip=None, nosigint=False, readrc=True)\n",
      "\n",
      "   \"Pdb\" is the debugger class.\n",
      "\n",
      "   The *completekey*, *stdin* and *stdout* arguments are passed to the\n",
      "   underlying \"cmd.Cmd\" class; see the description there.\n",
      "\n",
      "   The *skip* argument, if given, must be an iterable of glob-style\n",
      "   module name patterns.  The debugger will not step into frames that\n",
      "   originate in a module that matches one of these patterns. [1]\n",
      "\n",
      "   By default, Pdb sets a handler for the SIGINT signal (which is sent\n",
      "   when the user presses \"Ctrl-C\" on the console) when you give a\n",
      "   \"continue\" command. This allows you to break into the debugger\n",
      "   again by pressing \"Ctrl-C\".  If you want Pdb not to touch the\n",
      "   SIGINT handler, set *nosigint* to true.\n",
      "\n",
      "   The *readrc* argument defaults to true and controls whether Pdb\n",
      "   will load .pdbrc files from the filesystem.\n",
      "\n",
      "   Example call to enable tracing with *skip*:\n",
      "\n",
      "      import pdb; pdb.Pdb(skip=['django.*']).set_trace()\n",
      "\n",
      "   New in version 3.1: The *skip* argument.\n",
      "\n",
      "   New in version 3.2: The *nosigint* argument.  Previously, a SIGINT\n",
      "   handler was never set by Pdb.\n",
      "\n",
      "   Changed in version 3.6: The *readrc* argument.\n",
      "\n",
      "   run(statement, globals=None, locals=None)\n",
      "   runeval(expression, globals=None, locals=None)\n",
      "   runcall(function, *args, **kwds)\n",
      "   set_trace()\n",
      "\n",
      "      See the documentation for the functions explained above.\n",
      "\n",
      "\n",
      "Debugger Commands\n",
      "=================\n",
      "\n",
      "The commands recognized by the debugger are listed below.  Most\n",
      "commands can be abbreviated to one or two letters as indicated; e.g.\n",
      "\"h(elp)\" means that either \"h\" or \"help\" can be used to enter the help\n",
      "command (but not \"he\" or \"hel\", nor \"H\" or \"Help\" or \"HELP\").\n",
      "Arguments to commands must be separated by whitespace (spaces or\n",
      "tabs).  Optional arguments are enclosed in square brackets (\"[]\") in\n",
      "the command syntax; the square brackets must not be typed.\n",
      "Alternatives in the command syntax are separated by a vertical bar\n",
      "(\"|\").\n",
      "\n",
      "Entering a blank line repeats the last command entered.  Exception: if\n",
      "the last command was a \"list\" command, the next 11 lines are listed.\n",
      "\n",
      "Commands that the debugger doesn’t recognize are assumed to be Python\n",
      "statements and are executed in the context of the program being\n",
      "debugged.  Python statements can also be prefixed with an exclamation\n",
      "point (\"!\").  This is a powerful way to inspect the program being\n",
      "debugged; it is even possible to change a variable or call a function.\n",
      "When an exception occurs in such a statement, the exception name is\n",
      "printed but the debugger’s state is not changed.\n",
      "\n",
      "The debugger supports aliases.  Aliases can have parameters which\n",
      "allows one a certain level of adaptability to the context under\n",
      "examination.\n",
      "\n",
      "Multiple commands may be entered on a single line, separated by \";;\".\n",
      "(A single \";\" is not used as it is the separator for multiple commands\n",
      "in a line that is passed to the Python parser.)  No intelligence is\n",
      "applied to separating the commands; the input is split at the first\n",
      "\";;\" pair, even if it is in the middle of a quoted string.\n",
      "\n",
      "If a file \".pdbrc\" exists in the user’s home directory or in the\n",
      "current directory, it is read in and executed as if it had been typed\n",
      "at the debugger prompt.  This is particularly useful for aliases.  If\n",
      "both files exist, the one in the home directory is read first and\n",
      "aliases defined there can be overridden by the local file.\n",
      "\n",
      "Changed in version 3.2: \".pdbrc\" can now contain commands that\n",
      "continue debugging, such as \"continue\" or \"next\".  Previously, these\n",
      "commands had no effect.\n",
      "\n",
      "h(elp) [command]\n",
      "\n",
      "   Without argument, print the list of available commands.  With a\n",
      "   *command* as argument, print help about that command.  \"help pdb\"\n",
      "   displays the full documentation (the docstring of the \"pdb\"\n",
      "   module).  Since the *command* argument must be an identifier, \"help\n",
      "   exec\" must be entered to get help on the \"!\" command.\n",
      "\n",
      "w(here)\n",
      "\n",
      "   Print a stack trace, with the most recent frame at the bottom.  An\n",
      "   arrow indicates the current frame, which determines the context of\n",
      "   most commands.\n",
      "\n",
      "d(own) [count]\n",
      "\n",
      "   Move the current frame *count* (default one) levels down in the\n",
      "   stack trace (to a newer frame).\n",
      "\n",
      "u(p) [count]\n",
      "\n",
      "   Move the current frame *count* (default one) levels up in the stack\n",
      "   trace (to an older frame).\n",
      "\n",
      "b(reak) [([filename:]lineno | function) [, condition]]\n",
      "\n",
      "   With a *lineno* argument, set a break there in the current file.\n",
      "   With a *function* argument, set a break at the first executable\n",
      "   statement within that function.  The line number may be prefixed\n",
      "   with a filename and a colon, to specify a breakpoint in another\n",
      "   file (probably one that hasn’t been loaded yet).  The file is\n",
      "   searched on \"sys.path\".  Note that each breakpoint is assigned a\n",
      "   number to which all the other breakpoint commands refer.\n",
      "\n",
      "   If a second argument is present, it is an expression which must\n",
      "   evaluate to true before the breakpoint is honored.\n",
      "\n",
      "   Without argument, list all breaks, including for each breakpoint,\n",
      "   the number of times that breakpoint has been hit, the current\n",
      "   ignore count, and the associated condition if any.\n",
      "\n",
      "tbreak [([filename:]lineno | function) [, condition]]\n",
      "\n",
      "   Temporary breakpoint, which is removed automatically when it is\n",
      "   first hit. The arguments are the same as for \"break\".\n",
      "\n",
      "cl(ear) [filename:lineno | bpnumber [bpnumber ...]]\n",
      "\n",
      "   With a *filename:lineno* argument, clear all the breakpoints at\n",
      "   this line. With a space separated list of breakpoint numbers, clear\n",
      "   those breakpoints. Without argument, clear all breaks (but first\n",
      "   ask confirmation).\n",
      "\n",
      "disable [bpnumber [bpnumber ...]]\n",
      "\n",
      "   Disable the breakpoints given as a space separated list of\n",
      "   breakpoint numbers.  Disabling a breakpoint means it cannot cause\n",
      "   the program to stop execution, but unlike clearing a breakpoint, it\n",
      "   remains in the list of breakpoints and can be (re-)enabled.\n",
      "\n",
      "enable [bpnumber [bpnumber ...]]\n",
      "\n",
      "   Enable the breakpoints specified.\n",
      "\n",
      "ignore bpnumber [count]\n",
      "\n",
      "   Set the ignore count for the given breakpoint number.  If count is\n",
      "   omitted, the ignore count is set to 0.  A breakpoint becomes active\n",
      "   when the ignore count is zero.  When non-zero, the count is\n",
      "   decremented each time the breakpoint is reached and the breakpoint\n",
      "   is not disabled and any associated condition evaluates to true.\n",
      "\n",
      "condition bpnumber [condition]\n",
      "\n",
      "   Set a new *condition* for the breakpoint, an expression which must\n",
      "   evaluate to true before the breakpoint is honored.  If *condition*\n",
      "   is absent, any existing condition is removed; i.e., the breakpoint\n",
      "   is made unconditional.\n",
      "\n",
      "commands [bpnumber]\n",
      "\n",
      "   Specify a list of commands for breakpoint number *bpnumber*.  The\n",
      "   commands themselves appear on the following lines.  Type a line\n",
      "   containing just \"end\" to terminate the commands. An example:\n",
      "\n",
      "      (Pdb) commands 1\n",
      "      (com) p some_variable\n",
      "      (com) end\n",
      "      (Pdb)\n",
      "\n",
      "   To remove all commands from a breakpoint, type \"commands\" and\n",
      "   follow it immediately with \"end\"; that is, give no commands.\n",
      "\n",
      "   With no *bpnumber* argument, \"commands\" refers to the last\n",
      "   breakpoint set.\n",
      "\n",
      "   You can use breakpoint commands to start your program up again.\n",
      "   Simply use the \"continue\" command, or \"step\", or any other command\n",
      "   that resumes execution.\n",
      "\n",
      "   Specifying any command resuming execution (currently \"continue\",\n",
      "   \"step\", \"next\", \"return\", \"jump\", \"quit\" and their abbreviations)\n",
      "   terminates the command list (as if that command was immediately\n",
      "   followed by end). This is because any time you resume execution\n",
      "   (even with a simple next or step), you may encounter another\n",
      "   breakpoint—which could have its own command list, leading to\n",
      "   ambiguities about which list to execute.\n",
      "\n",
      "   If you use the ‘silent’ command in the command list, the usual\n",
      "   message about stopping at a breakpoint is not printed.  This may be\n",
      "   desirable for breakpoints that are to print a specific message and\n",
      "   then continue.  If none of the other commands print anything, you\n",
      "   see no sign that the breakpoint was reached.\n",
      "\n",
      "s(tep)\n",
      "\n",
      "   Execute the current line, stop at the first possible occasion\n",
      "   (either in a function that is called or on the next line in the\n",
      "   current function).\n",
      "\n",
      "n(ext)\n",
      "\n",
      "   Continue execution until the next line in the current function is\n",
      "   reached or it returns.  (The difference between \"next\" and \"step\"\n",
      "   is that \"step\" stops inside a called function, while \"next\"\n",
      "   executes called functions at (nearly) full speed, only stopping at\n",
      "   the next line in the current function.)\n",
      "\n",
      "unt(il) [lineno]\n",
      "\n",
      "   Without argument, continue execution until the line with a number\n",
      "   greater than the current one is reached.\n",
      "\n",
      "   With a line number, continue execution until a line with a number\n",
      "   greater or equal to that is reached.  In both cases, also stop when\n",
      "   the current frame returns.\n",
      "\n",
      "   Changed in version 3.2: Allow giving an explicit line number.\n",
      "\n",
      "r(eturn)\n",
      "\n",
      "   Continue execution until the current function returns.\n",
      "\n",
      "c(ont(inue))\n",
      "\n",
      "   Continue execution, only stop when a breakpoint is encountered.\n",
      "\n",
      "j(ump) lineno\n",
      "\n",
      "   Set the next line that will be executed.  Only available in the\n",
      "   bottom-most frame.  This lets you jump back and execute code again,\n",
      "   or jump forward to skip code that you don’t want to run.\n",
      "\n",
      "   It should be noted that not all jumps are allowed – for instance it\n",
      "   is not possible to jump into the middle of a \"for\" loop or out of a\n",
      "   \"finally\" clause.\n",
      "\n",
      "l(ist) [first[, last]]\n",
      "\n",
      "   List source code for the current file.  Without arguments, list 11\n",
      "   lines around the current line or continue the previous listing.\n",
      "   With \".\" as argument, list 11 lines around the current line.  With\n",
      "   one argument, list 11 lines around at that line.  With two\n",
      "   arguments, list the given range; if the second argument is less\n",
      "   than the first, it is interpreted as a count.\n",
      "\n",
      "   The current line in the current frame is indicated by \"->\".  If an\n",
      "   exception is being debugged, the line where the exception was\n",
      "   originally raised or propagated is indicated by \">>\", if it differs\n",
      "   from the current line.\n",
      "\n",
      "   New in version 3.2: The \">>\" marker.\n",
      "\n",
      "ll | longlist\n",
      "\n",
      "   List all source code for the current function or frame.\n",
      "   Interesting lines are marked as for \"list\".\n",
      "\n",
      "   New in version 3.2.\n",
      "\n",
      "a(rgs)\n",
      "\n",
      "   Print the argument list of the current function.\n",
      "\n",
      "p expression\n",
      "\n",
      "   Evaluate the *expression* in the current context and print its\n",
      "   value.\n",
      "\n",
      "   Note: \"print()\" can also be used, but is not a debugger command —\n",
      "     this executes the Python \"print()\" function.\n",
      "\n",
      "pp expression\n",
      "\n",
      "   Like the \"p\" command, except the value of the expression is pretty-\n",
      "   printed using the \"pprint\" module.\n",
      "\n",
      "whatis expression\n",
      "\n",
      "   Print the type of the *expression*.\n",
      "\n",
      "source expression\n",
      "\n",
      "   Try to get source code for the given object and display it.\n",
      "\n",
      "   New in version 3.2.\n",
      "\n",
      "display [expression]\n",
      "\n",
      "   Display the value of the expression if it changed, each time\n",
      "   execution stops in the current frame.\n",
      "\n",
      "   Without expression, list all display expressions for the current\n",
      "   frame.\n",
      "\n",
      "   New in version 3.2.\n",
      "\n",
      "undisplay [expression]\n",
      "\n",
      "   Do not display the expression any more in the current frame.\n",
      "   Without expression, clear all display expressions for the current\n",
      "   frame.\n",
      "\n",
      "   New in version 3.2.\n",
      "\n",
      "interact\n",
      "\n",
      "   Start an interactive interpreter (using the \"code\" module) whose\n",
      "   global namespace contains all the (global and local) names found in\n",
      "   the current scope.\n",
      "\n",
      "   New in version 3.2.\n",
      "\n",
      "alias [name [command]]\n",
      "\n",
      "   Create an alias called *name* that executes *command*.  The command\n",
      "   must *not* be enclosed in quotes.  Replaceable parameters can be\n",
      "   indicated by \"%1\", \"%2\", and so on, while \"%*\" is replaced by all\n",
      "   the parameters. If no command is given, the current alias for\n",
      "   *name* is shown. If no arguments are given, all aliases are listed.\n",
      "\n",
      "   Aliases may be nested and can contain anything that can be legally\n",
      "   typed at the pdb prompt.  Note that internal pdb commands *can* be\n",
      "   overridden by aliases.  Such a command is then hidden until the\n",
      "   alias is removed.  Aliasing is recursively applied to the first\n",
      "   word of the command line; all other words in the line are left\n",
      "   alone.\n",
      "\n",
      "   As an example, here are two useful aliases (especially when placed\n",
      "   in the \".pdbrc\" file):\n",
      "\n",
      "      # Print instance variables (usage \"pi classInst\")\n",
      "      alias pi for k in %1.__dict__.keys(): print(\"%1.\",k,\"=\",%1.__dict__[k])\n",
      "      # Print instance variables in self\n",
      "      alias ps pi self\n",
      "\n",
      "unalias name\n",
      "\n",
      "   Delete the specified alias.\n",
      "\n",
      "! statement\n",
      "\n",
      "   Execute the (one-line) *statement* in the context of the current\n",
      "   stack frame. The exclamation point can be omitted unless the first\n",
      "   word of the statement resembles a debugger command.  To set a\n",
      "   global variable, you can prefix the assignment command with a\n",
      "   \"global\" statement on the same line, e.g.:\n",
      "\n",
      "      (Pdb) global list_options; list_options = ['-l']\n",
      "      (Pdb)\n",
      "\n",
      "run [args ...]\n",
      "restart [args ...]\n",
      "\n",
      "   Restart the debugged Python program.  If an argument is supplied,\n",
      "   it is split with \"shlex\" and the result is used as the new\n",
      "   \"sys.argv\". History, breakpoints, actions and debugger options are\n",
      "   preserved. \"restart\" is an alias for \"run\".\n",
      "\n",
      "q(uit)\n",
      "\n",
      "   Quit from the debugger.  The program being executed is aborted.\n",
      "\n",
      "debug code\n",
      "\n",
      "   Enter a recursive debugger that steps through the code argument\n",
      "   (which is an arbitrary expression or statement to be executed in\n",
      "   the current environment).\n",
      "\n",
      "retval\n",
      "Print the return value for the last return of a function.\n",
      "\n",
      "-[ Footnotes ]-\n",
      "\n",
      "[1] Whether a frame is considered to originate in a certain module\n",
      "    is determined by the \"__name__\" in the frame globals.\n",
      "\n",
      "Related help topics: pdb\n",
      "\n"
     ]
    }
   ],
   "source": [
    "help()"
   ]
  },
  {
   "cell_type": "code",
   "execution_count": null,
   "metadata": {},
   "outputs": [],
   "source": []
  }
 ],
 "metadata": {
  "kernelspec": {
   "display_name": "Python 3",
   "language": "python",
   "name": "python3"
  },
  "language_info": {
   "codemirror_mode": {
    "name": "ipython",
    "version": 3
   },
   "file_extension": ".py",
   "mimetype": "text/x-python",
   "name": "python",
   "nbconvert_exporter": "python",
   "pygments_lexer": "ipython3",
   "version": "3.7.6"
  }
 },
 "nbformat": 4,
 "nbformat_minor": 1
}
