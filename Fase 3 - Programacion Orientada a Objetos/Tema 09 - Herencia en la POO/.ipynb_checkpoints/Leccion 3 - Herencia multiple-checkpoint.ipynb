{
 "cells": [
  {
   "cell_type": "code",
   "execution_count": 4,
   "metadata": {},
   "outputs": [
    {
     "name": "stdout",
     "output_type": "stream",
     "text": [
      "Soy de clase A\n"
     ]
    }
   ],
   "source": [
    "class A:\n",
    "    def __init__(self):\n",
    "        print(\"Soy de clase A\")\n",
    "\n",
    "class B:\n",
    "    def __init__(self):\n",
    "        print(\"Soy de clase B\")\n",
    "\n",
    "#La A sobre escribe la B por que es el primer parametro\n",
    "#Si fuera primero la B, entonces esta sobreescribiria la A\n",
    "class C(A,B):\n",
    "    pass\n",
    "    \n",
    "c=C()"
   ]
  },
  {
   "cell_type": "code",
   "execution_count": 9,
   "metadata": {},
   "outputs": [
    {
     "name": "stdout",
     "output_type": "stream",
     "text": [
      "Soy de clase B\n",
      "Este metodo lo heredo de A\n",
      "Este metodo lo heredo de B\n",
      "Este metodo es de C\n"
     ]
    }
   ],
   "source": [
    "class A:\n",
    "    def __init__(self):\n",
    "        print(\"Soy de clase A\")\n",
    "    def a(self):\n",
    "        print(\"Este metodo lo heredo de A\")\n",
    "\n",
    "class B:\n",
    "    def __init__(self):\n",
    "        print(\"Soy de clase B\")\n",
    "    def b(self):\n",
    "        print(\"Este metodo lo heredo de B\")\n",
    "\n",
    "class C(B,A):\n",
    "    def c(self):\n",
    "        print(\"Este metodo es de C\")\n",
    "\n",
    "c = C()\n",
    "c.a()\n",
    "c.b()\n",
    "c.c()"
   ]
  },
  {
   "cell_type": "code",
   "execution_count": null,
   "metadata": {},
   "outputs": [],
   "source": []
  }
 ],
 "metadata": {
  "kernelspec": {
   "display_name": "Python 3",
   "language": "python",
   "name": "python3"
  },
  "language_info": {
   "codemirror_mode": {
    "name": "ipython",
    "version": 3
   },
   "file_extension": ".py",
   "mimetype": "text/x-python",
   "name": "python",
   "nbconvert_exporter": "python",
   "pygments_lexer": "ipython3",
   "version": "3.7.6"
  }
 },
 "nbformat": 4,
 "nbformat_minor": 1
}
